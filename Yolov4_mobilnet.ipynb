{
  "nbformat": 4,
  "nbformat_minor": 0,
  "metadata": {
    "colab": {
      "name": "Yolov4_mobilnet.ipynb",
      "provenance": [],
      "collapsed_sections": [],
      "authorship_tag": "ABX9TyMfCfd7o3CouklMJOcUc1HF",
      "include_colab_link": true
    },
    "kernelspec": {
      "name": "python3",
      "display_name": "Python 3"
    },
    "language_info": {
      "name": "python"
    },
    "accelerator": "GPU"
  },
  "cells": [
    {
      "cell_type": "markdown",
      "metadata": {
        "id": "view-in-github",
        "colab_type": "text"
      },
      "source": [
        "<a href=\"https://colab.research.google.com/github/sswastik630/YoloV4/blob/main/Yolov4_mobilnet.ipynb\" target=\"_parent\"><img src=\"https://colab.research.google.com/assets/colab-badge.svg\" alt=\"Open In Colab\"/></a>"
      ]
    },
    {
      "cell_type": "code",
      "metadata": {
        "colab": {
          "base_uri": "https://localhost:8080/"
        },
        "id": "RjSJm21WSuo8",
        "outputId": "5b38807e-009b-443b-a46e-777ba6e39be1"
      },
      "source": [
        "!git clone https://github.com/argusswift/YOLOv4-pytorch.git\n"
      ],
      "execution_count": 1,
      "outputs": [
        {
          "output_type": "stream",
          "text": [
            "Cloning into 'YOLOv4-pytorch'...\n",
            "remote: Enumerating objects: 899, done.\u001b[K\n",
            "remote: Counting objects: 100% (34/34), done.\u001b[K\n",
            "remote: Compressing objects: 100% (27/27), done.\u001b[K\n",
            "remote: Total 899 (delta 14), reused 23 (delta 7), pack-reused 865\u001b[K\n",
            "Receiving objects: 100% (899/899), 1005.27 KiB | 23.38 MiB/s, done.\n",
            "Resolving deltas: 100% (532/532), done.\n"
          ],
          "name": "stdout"
        }
      ]
    },
    {
      "cell_type": "code",
      "metadata": {
        "colab": {
          "base_uri": "https://localhost:8080/"
        },
        "id": "QFjBk5X5Rrph",
        "outputId": "7cd93a48-5265-42dc-901d-f8de0b0af350"
      },
      "source": [
        "cd YOLOv4-pytorch/"
      ],
      "execution_count": 2,
      "outputs": [
        {
          "output_type": "stream",
          "text": [
            "/content/YOLOv4-pytorch\n"
          ],
          "name": "stdout"
        }
      ]
    },
    {
      "cell_type": "code",
      "metadata": {
        "id": "MdSgd7LcS2gN",
        "colab": {
          "base_uri": "https://localhost:8080/"
        },
        "outputId": "9d869ff1-66d2-4486-e900-62048a7d2a80"
      },
      "source": [
        "!pip3 install -r requirements.txt --user"
      ],
      "execution_count": 3,
      "outputs": [
        {
          "output_type": "stream",
          "text": [
            "Requirement already satisfied: numpy==1.17.3 in /root/.local/lib/python3.7/site-packages (from -r requirements.txt (line 1)) (1.17.3)\n",
            "Requirement already satisfied: opencv-python in /usr/local/lib/python3.7/dist-packages (from -r requirements.txt (line 2)) (4.1.2.30)\n",
            "Requirement already satisfied: tqdm==4.31.1 in /root/.local/lib/python3.7/site-packages (from -r requirements.txt (line 3)) (4.31.1)\n",
            "Requirement already satisfied: argparse in /root/.local/lib/python3.7/site-packages (from -r requirements.txt (line 4)) (1.4.0)\n",
            "Requirement already satisfied: tensorboardX in /root/.local/lib/python3.7/site-packages (from -r requirements.txt (line 5)) (2.2)\n",
            "Requirement already satisfied: pickleshare==0.7.5 in /usr/local/lib/python3.7/dist-packages (from -r requirements.txt (line 6)) (0.7.5)\n",
            "Requirement already satisfied: pycocotools in /usr/local/lib/python3.7/dist-packages (from -r requirements.txt (line 7)) (2.0.2)\n",
            "Requirement already satisfied: protobuf>=3.8.0 in /usr/local/lib/python3.7/dist-packages (from tensorboardX->-r requirements.txt (line 5)) (3.12.4)\n",
            "Requirement already satisfied: matplotlib>=2.1.0 in /usr/local/lib/python3.7/dist-packages (from pycocotools->-r requirements.txt (line 7)) (3.2.2)\n",
            "Requirement already satisfied: cython>=0.27.3 in /usr/local/lib/python3.7/dist-packages (from pycocotools->-r requirements.txt (line 7)) (0.29.23)\n",
            "Requirement already satisfied: setuptools>=18.0 in /usr/local/lib/python3.7/dist-packages (from pycocotools->-r requirements.txt (line 7)) (57.0.0)\n",
            "Requirement already satisfied: six>=1.9 in /usr/local/lib/python3.7/dist-packages (from protobuf>=3.8.0->tensorboardX->-r requirements.txt (line 5)) (1.15.0)\n",
            "Requirement already satisfied: pyparsing!=2.0.4,!=2.1.2,!=2.1.6,>=2.0.1 in /usr/local/lib/python3.7/dist-packages (from matplotlib>=2.1.0->pycocotools->-r requirements.txt (line 7)) (2.4.7)\n",
            "Requirement already satisfied: cycler>=0.10 in /usr/local/lib/python3.7/dist-packages (from matplotlib>=2.1.0->pycocotools->-r requirements.txt (line 7)) (0.10.0)\n",
            "Requirement already satisfied: python-dateutil>=2.1 in /usr/local/lib/python3.7/dist-packages (from matplotlib>=2.1.0->pycocotools->-r requirements.txt (line 7)) (2.8.1)\n",
            "Requirement already satisfied: kiwisolver>=1.0.1 in /usr/local/lib/python3.7/dist-packages (from matplotlib>=2.1.0->pycocotools->-r requirements.txt (line 7)) (1.3.1)\n"
          ],
          "name": "stdout"
        }
      ]
    },
    {
      "cell_type": "code",
      "metadata": {
        "colab": {
          "base_uri": "https://localhost:8080/"
        },
        "id": "XF8-TfPzWBj7",
        "outputId": "acb64015-6b55-4181-8e54-255d0a30276e"
      },
      "source": [
        "!gdown --id 1cewMfusmPjYWbrnuJRuKhPMwRe_b9PaT&export=download"
      ],
      "execution_count": 6,
      "outputs": [
        {
          "output_type": "stream",
          "text": [
            "Downloading...\n",
            "From: https://drive.google.com/uc?id=1cewMfusmPjYWbrnuJRuKhPMwRe_b9PaT\n",
            "To: /content/YOLOv4-pytorch/weight/yolov4.weights\n",
            "258MB [00:03, 67.4MB/s]\n"
          ],
          "name": "stdout"
        }
      ]
    },
    {
      "cell_type": "code",
      "metadata": {
        "colab": {
          "base_uri": "https://localhost:8080/"
        },
        "id": "cRWYQwMuR1XE",
        "outputId": "9f871086-2717-46f6-cbe6-92a7bc8409ce"
      },
      "source": [
        "cd weight/"
      ],
      "execution_count": 5,
      "outputs": [
        {
          "output_type": "stream",
          "text": [
            "/content/YOLOv4-pytorch/weight\n"
          ],
          "name": "stdout"
        }
      ]
    },
    {
      "cell_type": "code",
      "metadata": {
        "colab": {
          "base_uri": "https://localhost:8080/"
        },
        "id": "i1LcgWMnYqs3",
        "outputId": "8572a358-cc82-4ed2-c43e-a8099589881f"
      },
      "source": [
        "!pip install mmcv"
      ],
      "execution_count": 13,
      "outputs": [
        {
          "output_type": "stream",
          "text": [
            "Collecting mmcv\n",
            "\u001b[?25l  Downloading https://files.pythonhosted.org/packages/55/e7/5df8bfd90736137d466a96a267fc2fbc31af5a3af3b564f16acb512dabdf/mmcv-1.3.6.tar.gz (308kB)\n",
            "\u001b[K     |████████████████████████████████| 317kB 31.4MB/s \n",
            "\u001b[?25hCollecting addict\n",
            "  Downloading https://files.pythonhosted.org/packages/6a/00/b08f23b7d7e1e14ce01419a467b583edbb93c6cdb8654e54a9cc579cd61f/addict-2.4.0-py3-none-any.whl\n",
            "Requirement already satisfied: numpy in /root/.local/lib/python3.7/site-packages (from mmcv) (1.17.3)\n",
            "Requirement already satisfied: Pillow in /usr/local/lib/python3.7/dist-packages (from mmcv) (7.1.2)\n",
            "Requirement already satisfied: pyyaml in /usr/local/lib/python3.7/dist-packages (from mmcv) (3.13)\n",
            "Collecting yapf\n",
            "\u001b[?25l  Downloading https://files.pythonhosted.org/packages/5f/0d/8814e79eb865eab42d95023b58b650d01dec6f8ea87fc9260978b1bf2167/yapf-0.31.0-py2.py3-none-any.whl (185kB)\n",
            "\u001b[K     |████████████████████████████████| 194kB 45.5MB/s \n",
            "\u001b[?25hBuilding wheels for collected packages: mmcv\n",
            "  Building wheel for mmcv (setup.py) ... \u001b[?25l\u001b[?25hdone\n",
            "  Created wheel for mmcv: filename=mmcv-1.3.6-py2.py3-none-any.whl size=447499 sha256=40bff45ddf932ecb9fca961771aed5c02faaaef23eb7be0a34d1e1c04484a5e4\n",
            "  Stored in directory: /root/.cache/pip/wheels/0f/6d/b5/7afe9c1a624baf134ce75c3f65b230fe0223b46a2b08b4d28d\n",
            "Successfully built mmcv\n",
            "Installing collected packages: addict, yapf, mmcv\n",
            "Successfully installed addict-2.4.0 mmcv-1.3.6 yapf-0.31.0\n"
          ],
          "name": "stdout"
        }
      ]
    },
    {
      "cell_type": "code",
      "metadata": {
        "colab": {
          "base_uri": "https://localhost:8080/"
        },
        "id": "oowKQG5EW-Nz",
        "outputId": "d13453f3-1499-4fb4-960c-29066087ec4f"
      },
      "source": [
        "!CUDA_VISIBLE_DEVICES=0 python3 eval_coco.py --weight_path weight/yolov4.weights --gpu_id 1 --visiual /content/YOLOv4-pytorch/b522021c-a561-496c-9834-affc8ec4914d.jpg  --mode det"
      ],
      "execution_count": 17,
      "outputs": [
        {
          "output_type": "stream",
          "text": [
            "Traceback (most recent call last):\n",
            "  File \"eval_coco.py\", line 182, in <module>\n",
            "    logger_name=\"YOLOv4\",\n",
            "  File \"/content/YOLOv4-pytorch/utils/log.py\", line 10, in __init__\n",
            "    file_handler = logging.FileHandler(log_file_name)\n",
            "  File \"/usr/lib/python3.7/logging/__init__.py\", line 1087, in __init__\n",
            "    StreamHandler.__init__(self, self._open())\n",
            "  File \"/usr/lib/python3.7/logging/__init__.py\", line 1116, in _open\n",
            "    return open(self.baseFilename, self.mode, encoding=self.encoding)\n",
            "FileNotFoundError: [Errno 2] No such file or directory: '/content/YOLOv4-pytorch/log_val/log_coco_val.txt'\n"
          ],
          "name": "stdout"
        }
      ]
    },
    {
      "cell_type": "code",
      "metadata": {
        "colab": {
          "base_uri": "https://localhost:8080/"
        },
        "id": "XKVXe8l7YJ9q",
        "outputId": "ff73bcff-9f2c-4522-d978-e76ae58e78df"
      },
      "source": [
        "cd /content/YOLOv4-pytorch"
      ],
      "execution_count": 10,
      "outputs": [
        {
          "output_type": "stream",
          "text": [
            "/content/YOLOv4-pytorch\n"
          ],
          "name": "stdout"
        }
      ]
    },
    {
      "cell_type": "code",
      "metadata": {
        "colab": {
          "base_uri": "https://localhost:8080/"
        },
        "id": "xQelgpReYTEc",
        "outputId": "e1bcd10a-8e6e-4c9a-8b9e-6d75f4b61110"
      },
      "source": [
        "!nvidia-smi"
      ],
      "execution_count": 15,
      "outputs": [
        {
          "output_type": "stream",
          "text": [
            "Sun Jun 13 03:21:11 2021       \n",
            "+-----------------------------------------------------------------------------+\n",
            "| NVIDIA-SMI 465.27       Driver Version: 460.32.03    CUDA Version: 11.2     |\n",
            "|-------------------------------+----------------------+----------------------+\n",
            "| GPU  Name        Persistence-M| Bus-Id        Disp.A | Volatile Uncorr. ECC |\n",
            "| Fan  Temp  Perf  Pwr:Usage/Cap|         Memory-Usage | GPU-Util  Compute M. |\n",
            "|                               |                      |               MIG M. |\n",
            "|===============================+======================+======================|\n",
            "|   0  Tesla T4            Off  | 00000000:00:04.0 Off |                    0 |\n",
            "| N/A   41C    P8    10W /  70W |      0MiB / 15109MiB |      0%      Default |\n",
            "|                               |                      |                  N/A |\n",
            "+-------------------------------+----------------------+----------------------+\n",
            "                                                                               \n",
            "+-----------------------------------------------------------------------------+\n",
            "| Processes:                                                                  |\n",
            "|  GPU   GI   CI        PID   Type   Process name                  GPU Memory |\n",
            "|        ID   ID                                                   Usage      |\n",
            "|=============================================================================|\n",
            "|  No running processes found                                                 |\n",
            "+-----------------------------------------------------------------------------+\n"
          ],
          "name": "stdout"
        }
      ]
    },
    {
      "cell_type": "code",
      "metadata": {
        "id": "zH0DWNc6Yyyx"
      },
      "source": [
        ""
      ],
      "execution_count": null,
      "outputs": []
    }
  ]
}