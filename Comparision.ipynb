{
  "nbformat": 4,
  "nbformat_minor": 0,
  "metadata": {
    "colab": {
      "name": "Comparision.ipynb",
      "provenance": [],
      "collapsed_sections": [],
      "authorship_tag": "ABX9TyM9URxA82lF6hNUKcVplRWv",
      "include_colab_link": true
    },
    "kernelspec": {
      "name": "python3",
      "display_name": "Python 3"
    },
    "language_info": {
      "name": "python"
    }
  },
  "cells": [
    {
      "cell_type": "markdown",
      "metadata": {
        "id": "view-in-github",
        "colab_type": "text"
      },
      "source": [
        "<a href=\"https://colab.research.google.com/github/sswastik630/YoloV4/blob/main/Comparision.ipynb\" target=\"_parent\"><img src=\"https://colab.research.google.com/assets/colab-badge.svg\" alt=\"Open In Colab\"/></a>"
      ]
    },
    {
      "cell_type": "code",
      "metadata": {
        "id": "ddG86ktdF75I"
      },
      "source": [
        "import tensorflow as tf\n",
        "\n",
        "from tensorflow.keras import datasets, layers, models\n",
        "import matplotlib.pyplot as plt"
      ],
      "execution_count": null,
      "outputs": []
    },
    {
      "cell_type": "code",
      "metadata": {
        "id": "j19mHJ0NHjw2"
      },
      "source": [
        "model = models.Sequential()\n",
        "model.add(layers.Conv2D(32, (3, 3),strides=(1,1),padding='same', activation='relu', input_shape=(608, 608, 3)))     #(n*m*l+1)*k  == (3*3*3+1)*32=896\n",
        "model.add(layers.Conv2D(64, (3, 3),strides=(2,2),padding='same', activation='relu'))        #(3*3*32+1)*64 == 18496  \n",
        "model.add(layers.Conv2D(64,(1*1),strides=(1,1),padding='same',activation='relu'))       \n",
        "model.add(layers.Conv2D(64,(1*1),strides=(1,1),padding='same',activation='relu'))\n",
        "model.add(layers.Conv2D(32,(1*1),strides=(1,1),padding='same',activation='relu'))\n",
        "model.add(layers.Conv2D(64, (3, 3),strides=(1,1),padding='same', activation='relu'))"
      ],
      "execution_count": null,
      "outputs": []
    },
    {
      "cell_type": "code",
      "metadata": {
        "colab": {
          "base_uri": "https://localhost:8080/"
        },
        "id": "YjGluQFkHq5a",
        "outputId": "843adf4e-41a2-400a-f5fe-2f7b0d10fc81"
      },
      "source": [
        "model.summary()"
      ],
      "execution_count": null,
      "outputs": [
        {
          "output_type": "stream",
          "text": [
            "Model: \"sequential_3\"\n",
            "_________________________________________________________________\n",
            "Layer (type)                 Output Shape              Param #   \n",
            "=================================================================\n",
            "conv2d_15 (Conv2D)           (None, 608, 608, 32)      896       \n",
            "_________________________________________________________________\n",
            "conv2d_16 (Conv2D)           (None, 304, 304, 64)      18496     \n",
            "_________________________________________________________________\n",
            "conv2d_17 (Conv2D)           (None, 304, 304, 64)      4160      \n",
            "_________________________________________________________________\n",
            "conv2d_18 (Conv2D)           (None, 304, 304, 64)      4160      \n",
            "_________________________________________________________________\n",
            "conv2d_19 (Conv2D)           (None, 304, 304, 32)      2080      \n",
            "_________________________________________________________________\n",
            "conv2d_20 (Conv2D)           (None, 304, 304, 64)      18496     \n",
            "=================================================================\n",
            "Total params: 48,288\n",
            "Trainable params: 48,288\n",
            "Non-trainable params: 0\n",
            "_________________________________________________________________\n"
          ],
          "name": "stdout"
        }
      ]
    },
    {
      "cell_type": "code",
      "metadata": {
        "id": "RRKvGK96Hsuy"
      },
      "source": [
        "model2 = models.Sequential()\n",
        "model2.add(layers.Conv2D(32, (3, 3),strides=(1,1),padding='same', activation='relu', input_shape=(608, 608, 3)))\n",
        "model2.add(layers.SeparableConv2D(64, (3, 3),strides=(2,2),padding='same', activation='relu'))                          \n",
        "model2.add(layers.SeparableConv2D(64,(1*1),strides=(1,1),padding='same',activation='relu'))\n",
        "model2.add(layers.SeparableConv2D(64,(1*1),strides=(1,1),padding='same',activation='relu'))\n",
        "model2.add(layers.SeparableConv2D(32,(1*1),strides=(1,1),padding='same',activation='relu'))\n",
        "model2.add(layers.SeparableConv2D(64, (3, 3),strides=(1,1),padding='same', activation='relu'))"
      ],
      "execution_count": null,
      "outputs": []
    },
    {
      "cell_type": "code",
      "metadata": {
        "colab": {
          "base_uri": "https://localhost:8080/"
        },
        "id": "rGj-gHaEKLvH",
        "outputId": "68cf2b4d-e33a-4804-d248-dbbb7474e3c1"
      },
      "source": [
        "model2.summary()"
      ],
      "execution_count": null,
      "outputs": [
        {
          "output_type": "stream",
          "text": [
            "Model: \"sequential_6\"\n",
            "_________________________________________________________________\n",
            "Layer (type)                 Output Shape              Param #   \n",
            "=================================================================\n",
            "conv2d_27 (Conv2D)           (None, 608, 608, 32)      896       \n",
            "_________________________________________________________________\n",
            "separable_conv2d_6 (Separabl (None, 304, 304, 64)      2400      \n",
            "_________________________________________________________________\n",
            "separable_conv2d_7 (Separabl (None, 304, 304, 64)      4224      \n",
            "_________________________________________________________________\n",
            "separable_conv2d_8 (Separabl (None, 304, 304, 64)      4224      \n",
            "_________________________________________________________________\n",
            "separable_conv2d_9 (Separabl (None, 304, 304, 32)      2144      \n",
            "_________________________________________________________________\n",
            "separable_conv2d_10 (Separab (None, 304, 304, 64)      2400      \n",
            "=================================================================\n",
            "Total params: 16,288\n",
            "Trainable params: 16,288\n",
            "Non-trainable params: 0\n",
            "_________________________________________________________________\n"
          ],
          "name": "stdout"
        }
      ]
    },
    {
      "cell_type": "code",
      "metadata": {
        "id": "XEUHGHNgKN9n"
      },
      "source": [
        "model3=models.Sequential()\n",
        "model3.add(layers.Conv2D(32, (3, 3),strides=(1,1),padding='same', activation='relu', input_shape=(608, 608, 3)))\n",
        "model3.add(layers.Conv2D(32,(3*3),strides=(2,2),padding='same',groups=32,activation='relu'))\n",
        "model3.add(layers.Conv2D(64,(1*1),strides=(1,1),padding='valid',activation='relu'))\n",
        "model3.add(layers.Conv2D(64,(1*1),strides=(1,1),padding='same',groups=64,activation='relu'))\n",
        "model3.add(layers.Conv2D(64,(1*1),strides=(1,1),padding='valid',activation='relu'))\n",
        "model3.add(layers.Conv2D(64,(1*1),strides=(1,1),padding='same',groups=64,activation='relu'))\n",
        "model3.add(layers.Conv2D(64,(1*1),strides=(1,1),padding='valid',activation='relu'))\n",
        "model3.add(layers.Conv2D(64,(1*1),strides=(1,1),padding='same',groups=64,activation='relu'))\n",
        "model3.add(layers.Conv2D(32,(1*1),strides=(1,1),padding='valid',activation='relu'))\n",
        "model3.add(layers.Conv2D(32, (3, 3),strides=(1,1),padding='same',groups=32, activation='relu'))\n",
        "model3.add(layers.Conv2D(64, (1, 1),strides=(1,1),padding='valid', activation='relu'))        #Filter should be 1*1 \n"
      ],
      "execution_count": null,
      "outputs": []
    },
    {
      "cell_type": "code",
      "metadata": {
        "colab": {
          "base_uri": "https://localhost:8080/"
        },
        "id": "dpw_171rOUhC",
        "outputId": "d09927e5-3ea9-403b-a8cf-5486fa578d1d"
      },
      "source": [
        "model3.summary()"
      ],
      "execution_count": null,
      "outputs": [
        {
          "output_type": "stream",
          "text": [
            "Model: \"sequential_13\"\n",
            "_________________________________________________________________\n",
            "Layer (type)                 Output Shape              Param #   \n",
            "=================================================================\n",
            "conv2d_61 (Conv2D)           (None, 608, 608, 32)      896       \n",
            "_________________________________________________________________\n",
            "conv2d_62 (Conv2D)           (None, 304, 304, 32)      2624      \n",
            "_________________________________________________________________\n",
            "conv2d_63 (Conv2D)           (None, 304, 304, 64)      2112      \n",
            "_________________________________________________________________\n",
            "conv2d_64 (Conv2D)           (None, 304, 304, 64)      128       \n",
            "_________________________________________________________________\n",
            "conv2d_65 (Conv2D)           (None, 304, 304, 64)      4160      \n",
            "_________________________________________________________________\n",
            "conv2d_66 (Conv2D)           (None, 304, 304, 64)      128       \n",
            "_________________________________________________________________\n",
            "conv2d_67 (Conv2D)           (None, 304, 304, 64)      4160      \n",
            "_________________________________________________________________\n",
            "conv2d_68 (Conv2D)           (None, 304, 304, 64)      128       \n",
            "_________________________________________________________________\n",
            "conv2d_69 (Conv2D)           (None, 304, 304, 32)      2080      \n",
            "_________________________________________________________________\n",
            "conv2d_70 (Conv2D)           (None, 304, 304, 32)      320       \n",
            "_________________________________________________________________\n",
            "conv2d_71 (Conv2D)           (None, 304, 304, 64)      2112      \n",
            "=================================================================\n",
            "Total params: 18,848\n",
            "Trainable params: 18,848\n",
            "Non-trainable params: 0\n",
            "_________________________________________________________________\n"
          ],
          "name": "stdout"
        }
      ]
    },
    {
      "cell_type": "code",
      "metadata": {
        "id": "dyfGbJ2WOdtN"
      },
      "source": [
        "model4 = models.Sequential()\n",
        "model4.add(layers.Conv2D(32, (3, 3),strides=(1,1),padding='same', activation='relu', input_shape=(608, 608, 3))) "
      ],
      "execution_count": null,
      "outputs": []
    },
    {
      "cell_type": "code",
      "metadata": {
        "colab": {
          "base_uri": "https://localhost:8080/"
        },
        "id": "VxNzKBrzbUoS",
        "outputId": "675d20a5-9b5b-44d9-cbd7-df361555bb8b"
      },
      "source": [
        "model4.summary()"
      ],
      "execution_count": null,
      "outputs": [
        {
          "output_type": "stream",
          "text": [
            "Model: \"sequential_14\"\n",
            "_________________________________________________________________\n",
            "Layer (type)                 Output Shape              Param #   \n",
            "=================================================================\n",
            "conv2d_72 (Conv2D)           (None, 608, 608, 32)      896       \n",
            "=================================================================\n",
            "Total params: 896\n",
            "Trainable params: 896\n",
            "Non-trainable params: 0\n",
            "_________________________________________________________________\n"
          ],
          "name": "stdout"
        }
      ]
    },
    {
      "cell_type": "code",
      "metadata": {
        "id": "yaWIkwuIbWum"
      },
      "source": [
        ""
      ],
      "execution_count": null,
      "outputs": []
    }
  ]
}